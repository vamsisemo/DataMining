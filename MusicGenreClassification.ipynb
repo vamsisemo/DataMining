{
 "cells": [
  {
   "cell_type": "code",
   "execution_count": 2,
   "id": "63ea0ccc-61b2-4a2d-960c-c9411f9cfb21",
   "metadata": {},
   "outputs": [],
   "source": [
    "#importing the libraries\n",
    "import os\n",
    "import librosa\n",
    "import numpy as np\n",
    "import pandas as pd\n",
    "import tensorflow as tf\n",
    "from tensorflow.keras import layers, models\n",
    "from sklearn.model_selection import train_test_split\n",
    "from sklearn.preprocessing import LabelEncoder, StandardScaler\n",
    "from sklearn.metrics import confusion_matrix, classification_report\n",
    "import seaborn as sns\n",
    "import matplotlib.pyplot as plt"
   ]
  },
  {
   "cell_type": "code",
   "execution_count": 3,
   "id": "2583d3d2-8036-46a4-9c0a-5b2010deec12",
   "metadata": {},
   "outputs": [
    {
     "name": "stdout",
     "output_type": "stream",
     "text": [
      "Genres: ['blues', 'classical', 'country', 'disco', 'hiphop', 'jazz', 'metal', 'pop', 'reggae', 'rock']\n"
     ]
    }
   ],
   "source": [
    "# Path to the dataset\n",
    "dataset_path = 'C:\\\\Users\\\\naga2\\\\Downloads\\\\DM_final\\\\genres'\n",
    "\n",
    "# Listing genres by reading folder names in the dataset path\n",
    "genres = [name for name in os.listdir(dataset_path) if os.path.isdir(os.path.join(dataset_path, name))]\n",
    "print(\"Genres:\", genres)"
   ]
  },
  {
   "cell_type": "code",
   "execution_count": 4,
   "id": "b094997f-afa0-4019-8aef-14390f9d0539",
   "metadata": {},
   "outputs": [],
   "source": [
    "# Creating a list to hold the audio data and labels\n",
    "audio_data = []\n",
    "labels = []"
   ]
  },
  {
   "cell_type": "code",
   "execution_count": 5,
   "id": "5c837b7e-c99f-4f85-8fd0-21b3ff13305b",
   "metadata": {},
   "outputs": [],
   "source": [
    "# Function for extracting the features\n",
    "def extract_features(y, sr):\n",
    "    try:\n",
    "        mfccs = librosa.feature.mfcc(y=y, sr=sr, n_mfcc=13)\n",
    "        chroma = librosa.feature.chroma_stft(y=y, sr=sr)\n",
    "        mel = librosa.feature.melspectrogram(y=y, sr=sr)\n",
    "        mfccs_mean = np.mean(mfccs, axis=1)\n",
    "        mfccs_var = np.var(mfccs, axis=1)\n",
    "        chroma_mean = np.mean(chroma, axis=1)\n",
    "        chroma_var = np.var(chroma, axis=1)\n",
    "        mel_mean = np.mean(mel, axis=1)\n",
    "        mel_var = np.var(mel, axis=1)\n",
    "        features = np.hstack([mfccs_mean, mfccs_var, chroma_mean, chroma_var, mel_mean, mel_var])\n",
    "        return features\n",
    "    except Exception as e:\n",
    "        print(f\"Error extracting features: {e}\")\n",
    "        return None"
   ]
  },
  {
   "cell_type": "code",
   "execution_count": 6,
   "id": "1587ece7-52a5-467d-9124-98480cfcf432",
   "metadata": {},
   "outputs": [],
   "source": [
    "# Loading the dataset and extracting the features\n",
    "for genre in genres:\n",
    "    genre_path = os.path.join(dataset_path, genre)\n",
    "    for filename in os.listdir(genre_path):\n",
    "        if filename.endswith('.au'):\n",
    "            file_path = os.path.join(genre_path, filename)\n",
    "            y, sr = librosa.load(file_path, sr=None)\n",
    "            features = extract_features(y, sr)\n",
    "            audio_data.append(features)\n",
    "            labels.append(genre)\n"
   ]
  },
  {
   "cell_type": "code",
   "execution_count": 7,
   "id": "52cd1870-66d4-4cb7-bd49-c09d48f2a290",
   "metadata": {},
   "outputs": [
    {
     "name": "stdout",
     "output_type": "stream",
     "text": [
      "            0           1          2          3          4          5  \\\n",
      "0 -113.598824  121.570671 -19.162262  42.363937  -6.362266  18.621931   \n",
      "1 -207.523834  123.985138   8.947019  35.867149   2.909595  21.519472   \n",
      "2  -90.757164  140.440872 -29.084547  31.686693 -13.976547  25.753752   \n",
      "3 -199.575134  150.086105   5.663404  26.855282   1.770071  14.232647   \n",
      "4 -160.354172  126.209480 -35.581394  22.139257 -32.473549  10.850701   \n",
      "\n",
      "           6          7          8          9  ...       297       298  \\\n",
      "0 -13.699734  15.339802 -12.274305  10.970945  ...  0.000587  0.000656   \n",
      "1  -8.556513  23.370676 -10.103608  11.899242  ...  0.000415  0.000448   \n",
      "2 -13.664990  11.634442 -11.778322   9.714756  ...  0.000039  0.000009   \n",
      "3  -4.827845   9.286853  -0.756120   8.134435  ...  0.000014  0.000004   \n",
      "4 -23.350071   0.493249 -11.796538   1.203519  ...  0.000016  0.000001   \n",
      "\n",
      "            299           300           301           302           303  \\\n",
      "0  1.197972e-05  7.660740e-07  8.922267e-08  1.691965e-09  1.569861e-11   \n",
      "1  1.435222e-05  2.870750e-07  1.575180e-08  2.835181e-10  1.615074e-11   \n",
      "2  1.703815e-06  2.983996e-07  1.606196e-08  5.610194e-10  4.262443e-11   \n",
      "3  5.227672e-07  6.380902e-08  2.606875e-09  9.675638e-11  7.872390e-13   \n",
      "4  1.090830e-07  6.187131e-09  2.584627e-10  9.142012e-12  9.423983e-13   \n",
      "\n",
      "            304           305  label  \n",
      "0  1.384552e-12  1.257243e-12  blues  \n",
      "1  1.277298e-11  1.230426e-11  blues  \n",
      "2  2.920686e-11  2.786954e-11  blues  \n",
      "3  6.280112e-15  1.723124e-15  blues  \n",
      "4  8.324755e-13  7.959151e-13  blues  \n",
      "\n",
      "[5 rows x 307 columns]\n"
     ]
    }
   ],
   "source": [
    "# Converting to a DataFrame\n",
    "features_df = pd.DataFrame(audio_data)\n",
    "features_df['label'] = labels\n",
    "print(features_df.head())"
   ]
  },
  {
   "cell_type": "code",
   "execution_count": 8,
   "id": "fe454c14-e011-4f50-8e0f-4bda7c068997",
   "metadata": {},
   "outputs": [],
   "source": [
    "# Encoding labels\n",
    "label_encoder = LabelEncoder()\n",
    "y = label_encoder.fit_transform(features_df['label'])\n",
    "\n",
    "# Scaling the features\n",
    "scaler = StandardScaler()\n",
    "X = scaler.fit_transform(features_df.drop(columns=['label']))"
   ]
  },
  {
   "cell_type": "code",
   "execution_count": 9,
   "id": "0649ecb6-69e2-45fb-8763-3ffcfdcb95ff",
   "metadata": {},
   "outputs": [],
   "source": [
    "# Splitting the dataset into training, validation, and test sets (60% train, 20% val, 20% test)\n",
    "X_train, X_temp, y_train, y_temp = train_test_split(X, y, test_size=0.4, random_state=42)\n",
    "X_val, X_test, y_val, y_test = train_test_split(X_temp, y_temp, test_size=0.5, random_state=42)\n",
    "\n"
   ]
  },
  {
   "cell_type": "code",
   "execution_count": 10,
   "id": "824ed1f4-d73f-46db-a308-93364219da89",
   "metadata": {},
   "outputs": [],
   "source": [
    "# Building the model using Functional API\n",
    "input_shape = (X_train.shape[1],)\n",
    "inputs = layers.Input(shape=input_shape)\n",
    "\n",
    "A = layers.Dense(256, activation='relu')(inputs)\n",
    "B = layers.Dropout(0.5)(A)\n",
    "C = layers.Dense(128, activation='relu')(B)\n",
    "D = layers.Dropout(0.5)(C)\n",
    "E = layers.Dense(64, activation='relu')(D)\n",
    "F = layers.Dropout(0.5)(E)\n",
    "\n",
    "output = layers.Dense(len(genres), activation='softmax')(F)\n",
    "\n",
    "model = models.Model(inputs, output)\n"
   ]
  },
  {
   "cell_type": "code",
   "execution_count": 11,
   "id": "07ecc138-8893-4043-8499-567de91d4d1c",
   "metadata": {},
   "outputs": [],
   "source": [
    "# Compiling the model\n",
    "model.compile(optimizer='adam', loss='sparse_categorical_crossentropy', metrics=['accuracy'])"
   ]
  },
  {
   "cell_type": "code",
   "execution_count": 15,
   "id": "c3919a94-4905-4a84-8aa4-0442f5c51a13",
   "metadata": {},
   "outputs": [
    {
     "name": "stdout",
     "output_type": "stream",
     "text": [
      "Epoch 1/50\n",
      "\u001b[1m10/10\u001b[0m \u001b[32m━━━━━━━━━━━━━━━━━━━━\u001b[0m\u001b[37m\u001b[0m \u001b[1m3s\u001b[0m 23ms/step - accuracy: 0.0954 - loss: 3.3975 - val_accuracy: 0.2200 - val_loss: 2.2365\n",
      "Epoch 2/50\n",
      "\u001b[1m10/10\u001b[0m \u001b[32m━━━━━━━━━━━━━━━━━━━━\u001b[0m\u001b[37m\u001b[0m \u001b[1m0s\u001b[0m 10ms/step - accuracy: 0.1811 - loss: 2.5603 - val_accuracy: 0.2900 - val_loss: 2.1080\n",
      "Epoch 3/50\n",
      "\u001b[1m10/10\u001b[0m \u001b[32m━━━━━━━━━━━━━━━━━━━━\u001b[0m\u001b[37m\u001b[0m \u001b[1m0s\u001b[0m 11ms/step - accuracy: 0.1925 - loss: 2.3023 - val_accuracy: 0.3600 - val_loss: 2.0300\n",
      "Epoch 4/50\n",
      "\u001b[1m10/10\u001b[0m \u001b[32m━━━━━━━━━━━━━━━━━━━━\u001b[0m\u001b[37m\u001b[0m \u001b[1m0s\u001b[0m 10ms/step - accuracy: 0.1741 - loss: 2.3847 - val_accuracy: 0.3700 - val_loss: 1.9874\n",
      "Epoch 5/50\n",
      "\u001b[1m10/10\u001b[0m \u001b[32m━━━━━━━━━━━━━━━━━━━━\u001b[0m\u001b[37m\u001b[0m \u001b[1m0s\u001b[0m 8ms/step - accuracy: 0.2806 - loss: 2.1659 - val_accuracy: 0.3900 - val_loss: 1.9395\n",
      "Epoch 6/50\n",
      "\u001b[1m10/10\u001b[0m \u001b[32m━━━━━━━━━━━━━━━━━━━━\u001b[0m\u001b[37m\u001b[0m \u001b[1m0s\u001b[0m 9ms/step - accuracy: 0.2357 - loss: 2.0806 - val_accuracy: 0.3800 - val_loss: 1.9001\n",
      "Epoch 7/50\n",
      "\u001b[1m10/10\u001b[0m \u001b[32m━━━━━━━━━━━━━━━━━━━━\u001b[0m\u001b[37m\u001b[0m \u001b[1m0s\u001b[0m 11ms/step - accuracy: 0.2454 - loss: 2.0889 - val_accuracy: 0.3900 - val_loss: 1.8515\n",
      "Epoch 8/50\n",
      "\u001b[1m10/10\u001b[0m \u001b[32m━━━━━━━━━━━━━━━━━━━━\u001b[0m\u001b[37m\u001b[0m \u001b[1m0s\u001b[0m 10ms/step - accuracy: 0.2545 - loss: 2.0148 - val_accuracy: 0.4000 - val_loss: 1.8170\n",
      "Epoch 9/50\n",
      "\u001b[1m10/10\u001b[0m \u001b[32m━━━━━━━━━━━━━━━━━━━━\u001b[0m\u001b[37m\u001b[0m \u001b[1m0s\u001b[0m 11ms/step - accuracy: 0.2762 - loss: 1.9988 - val_accuracy: 0.4100 - val_loss: 1.7804\n",
      "Epoch 10/50\n",
      "\u001b[1m10/10\u001b[0m \u001b[32m━━━━━━━━━━━━━━━━━━━━\u001b[0m\u001b[37m\u001b[0m \u001b[1m0s\u001b[0m 11ms/step - accuracy: 0.3519 - loss: 1.8970 - val_accuracy: 0.4100 - val_loss: 1.7357\n",
      "Epoch 11/50\n",
      "\u001b[1m10/10\u001b[0m \u001b[32m━━━━━━━━━━━━━━━━━━━━\u001b[0m\u001b[37m\u001b[0m \u001b[1m0s\u001b[0m 12ms/step - accuracy: 0.3678 - loss: 1.8048 - val_accuracy: 0.4000 - val_loss: 1.6912\n",
      "Epoch 12/50\n",
      "\u001b[1m10/10\u001b[0m \u001b[32m━━━━━━━━━━━━━━━━━━━━\u001b[0m\u001b[37m\u001b[0m \u001b[1m0s\u001b[0m 11ms/step - accuracy: 0.3944 - loss: 1.8259 - val_accuracy: 0.4000 - val_loss: 1.6391\n",
      "Epoch 13/50\n",
      "\u001b[1m10/10\u001b[0m \u001b[32m━━━━━━━━━━━━━━━━━━━━\u001b[0m\u001b[37m\u001b[0m \u001b[1m0s\u001b[0m 11ms/step - accuracy: 0.3721 - loss: 1.8206 - val_accuracy: 0.4100 - val_loss: 1.5856\n",
      "Epoch 14/50\n",
      "\u001b[1m10/10\u001b[0m \u001b[32m━━━━━━━━━━━━━━━━━━━━\u001b[0m\u001b[37m\u001b[0m \u001b[1m0s\u001b[0m 11ms/step - accuracy: 0.3877 - loss: 1.7228 - val_accuracy: 0.4500 - val_loss: 1.5808\n",
      "Epoch 15/50\n",
      "\u001b[1m10/10\u001b[0m \u001b[32m━━━━━━━━━━━━━━━━━━━━\u001b[0m\u001b[37m\u001b[0m \u001b[1m0s\u001b[0m 11ms/step - accuracy: 0.3997 - loss: 1.6429 - val_accuracy: 0.4500 - val_loss: 1.5686\n",
      "Epoch 16/50\n",
      "\u001b[1m10/10\u001b[0m \u001b[32m━━━━━━━━━━━━━━━━━━━━\u001b[0m\u001b[37m\u001b[0m \u001b[1m0s\u001b[0m 11ms/step - accuracy: 0.4554 - loss: 1.6170 - val_accuracy: 0.4700 - val_loss: 1.5456\n",
      "Epoch 17/50\n",
      "\u001b[1m10/10\u001b[0m \u001b[32m━━━━━━━━━━━━━━━━━━━━\u001b[0m\u001b[37m\u001b[0m \u001b[1m0s\u001b[0m 9ms/step - accuracy: 0.4685 - loss: 1.4965 - val_accuracy: 0.5000 - val_loss: 1.5192\n",
      "Epoch 18/50\n",
      "\u001b[1m10/10\u001b[0m \u001b[32m━━━━━━━━━━━━━━━━━━━━\u001b[0m\u001b[37m\u001b[0m \u001b[1m0s\u001b[0m 10ms/step - accuracy: 0.4432 - loss: 1.5791 - val_accuracy: 0.4800 - val_loss: 1.5070\n",
      "Epoch 19/50\n",
      "\u001b[1m10/10\u001b[0m \u001b[32m━━━━━━━━━━━━━━━━━━━━\u001b[0m\u001b[37m\u001b[0m \u001b[1m0s\u001b[0m 10ms/step - accuracy: 0.5147 - loss: 1.3901 - val_accuracy: 0.4700 - val_loss: 1.4688\n",
      "Epoch 20/50\n",
      "\u001b[1m10/10\u001b[0m \u001b[32m━━━━━━━━━━━━━━━━━━━━\u001b[0m\u001b[37m\u001b[0m \u001b[1m0s\u001b[0m 9ms/step - accuracy: 0.4704 - loss: 1.4210 - val_accuracy: 0.5100 - val_loss: 1.4481\n",
      "Epoch 21/50\n",
      "\u001b[1m10/10\u001b[0m \u001b[32m━━━━━━━━━━━━━━━━━━━━\u001b[0m\u001b[37m\u001b[0m \u001b[1m0s\u001b[0m 10ms/step - accuracy: 0.4629 - loss: 1.4327 - val_accuracy: 0.5400 - val_loss: 1.4245\n",
      "Epoch 22/50\n",
      "\u001b[1m10/10\u001b[0m \u001b[32m━━━━━━━━━━━━━━━━━━━━\u001b[0m\u001b[37m\u001b[0m \u001b[1m0s\u001b[0m 11ms/step - accuracy: 0.4567 - loss: 1.4351 - val_accuracy: 0.5000 - val_loss: 1.4016\n",
      "Epoch 23/50\n",
      "\u001b[1m10/10\u001b[0m \u001b[32m━━━━━━━━━━━━━━━━━━━━\u001b[0m\u001b[37m\u001b[0m \u001b[1m0s\u001b[0m 8ms/step - accuracy: 0.5077 - loss: 1.3430 - val_accuracy: 0.5100 - val_loss: 1.3629\n",
      "Epoch 24/50\n",
      "\u001b[1m10/10\u001b[0m \u001b[32m━━━━━━━━━━━━━━━━━━━━\u001b[0m\u001b[37m\u001b[0m \u001b[1m0s\u001b[0m 9ms/step - accuracy: 0.4979 - loss: 1.4163 - val_accuracy: 0.5400 - val_loss: 1.3287\n",
      "Epoch 25/50\n",
      "\u001b[1m10/10\u001b[0m \u001b[32m━━━━━━━━━━━━━━━━━━━━\u001b[0m\u001b[37m\u001b[0m \u001b[1m0s\u001b[0m 10ms/step - accuracy: 0.5184 - loss: 1.3851 - val_accuracy: 0.5600 - val_loss: 1.3145\n",
      "Epoch 26/50\n",
      "\u001b[1m10/10\u001b[0m \u001b[32m━━━━━━━━━━━━━━━━━━━━\u001b[0m\u001b[37m\u001b[0m \u001b[1m0s\u001b[0m 10ms/step - accuracy: 0.5210 - loss: 1.3312 - val_accuracy: 0.5600 - val_loss: 1.2911\n",
      "Epoch 27/50\n",
      "\u001b[1m10/10\u001b[0m \u001b[32m━━━━━━━━━━━━━━━━━━━━\u001b[0m\u001b[37m\u001b[0m \u001b[1m0s\u001b[0m 11ms/step - accuracy: 0.5820 - loss: 1.2492 - val_accuracy: 0.5800 - val_loss: 1.2690\n",
      "Epoch 28/50\n",
      "\u001b[1m10/10\u001b[0m \u001b[32m━━━━━━━━━━━━━━━━━━━━\u001b[0m\u001b[37m\u001b[0m \u001b[1m0s\u001b[0m 11ms/step - accuracy: 0.5587 - loss: 1.2488 - val_accuracy: 0.5800 - val_loss: 1.2835\n",
      "Epoch 29/50\n",
      "\u001b[1m10/10\u001b[0m \u001b[32m━━━━━━━━━━━━━━━━━━━━\u001b[0m\u001b[37m\u001b[0m \u001b[1m0s\u001b[0m 10ms/step - accuracy: 0.5921 - loss: 1.2796 - val_accuracy: 0.5900 - val_loss: 1.2776\n",
      "Epoch 30/50\n",
      "\u001b[1m10/10\u001b[0m \u001b[32m━━━━━━━━━━━━━━━━━━━━\u001b[0m\u001b[37m\u001b[0m \u001b[1m0s\u001b[0m 11ms/step - accuracy: 0.5552 - loss: 1.2428 - val_accuracy: 0.5800 - val_loss: 1.2719\n",
      "Epoch 31/50\n",
      "\u001b[1m10/10\u001b[0m \u001b[32m━━━━━━━━━━━━━━━━━━━━\u001b[0m\u001b[37m\u001b[0m \u001b[1m0s\u001b[0m 9ms/step - accuracy: 0.5895 - loss: 1.1611 - val_accuracy: 0.6100 - val_loss: 1.2515\n",
      "Epoch 32/50\n",
      "\u001b[1m10/10\u001b[0m \u001b[32m━━━━━━━━━━━━━━━━━━━━\u001b[0m\u001b[37m\u001b[0m \u001b[1m0s\u001b[0m 9ms/step - accuracy: 0.6068 - loss: 1.1242 - val_accuracy: 0.6100 - val_loss: 1.2129\n",
      "Epoch 33/50\n",
      "\u001b[1m10/10\u001b[0m \u001b[32m━━━━━━━━━━━━━━━━━━━━\u001b[0m\u001b[37m\u001b[0m \u001b[1m0s\u001b[0m 11ms/step - accuracy: 0.5725 - loss: 1.2068 - val_accuracy: 0.6000 - val_loss: 1.1961\n",
      "Epoch 34/50\n",
      "\u001b[1m10/10\u001b[0m \u001b[32m━━━━━━━━━━━━━━━━━━━━\u001b[0m\u001b[37m\u001b[0m \u001b[1m0s\u001b[0m 11ms/step - accuracy: 0.6158 - loss: 1.0340 - val_accuracy: 0.5900 - val_loss: 1.1907\n",
      "Epoch 35/50\n",
      "\u001b[1m10/10\u001b[0m \u001b[32m━━━━━━━━━━━━━━━━━━━━\u001b[0m\u001b[37m\u001b[0m \u001b[1m0s\u001b[0m 10ms/step - accuracy: 0.6558 - loss: 1.0949 - val_accuracy: 0.6000 - val_loss: 1.1742\n",
      "Epoch 36/50\n",
      "\u001b[1m10/10\u001b[0m \u001b[32m━━━━━━━━━━━━━━━━━━━━\u001b[0m\u001b[37m\u001b[0m \u001b[1m0s\u001b[0m 12ms/step - accuracy: 0.6324 - loss: 1.1090 - val_accuracy: 0.5800 - val_loss: 1.1527\n",
      "Epoch 37/50\n",
      "\u001b[1m10/10\u001b[0m \u001b[32m━━━━━━━━━━━━━━━━━━━━\u001b[0m\u001b[37m\u001b[0m \u001b[1m0s\u001b[0m 11ms/step - accuracy: 0.6013 - loss: 1.0821 - val_accuracy: 0.6100 - val_loss: 1.1207\n",
      "Epoch 38/50\n",
      "\u001b[1m10/10\u001b[0m \u001b[32m━━━━━━━━━━━━━━━━━━━━\u001b[0m\u001b[37m\u001b[0m \u001b[1m0s\u001b[0m 9ms/step - accuracy: 0.6897 - loss: 0.9037 - val_accuracy: 0.6500 - val_loss: 1.0985\n",
      "Epoch 39/50\n",
      "\u001b[1m10/10\u001b[0m \u001b[32m━━━━━━━━━━━━━━━━━━━━\u001b[0m\u001b[37m\u001b[0m \u001b[1m0s\u001b[0m 12ms/step - accuracy: 0.6500 - loss: 1.1099 - val_accuracy: 0.6900 - val_loss: 1.0871\n",
      "Epoch 40/50\n",
      "\u001b[1m10/10\u001b[0m \u001b[32m━━━━━━━━━━━━━━━━━━━━\u001b[0m\u001b[37m\u001b[0m \u001b[1m0s\u001b[0m 12ms/step - accuracy: 0.6558 - loss: 0.9516 - val_accuracy: 0.6300 - val_loss: 1.0826\n",
      "Epoch 41/50\n",
      "\u001b[1m10/10\u001b[0m \u001b[32m━━━━━━━━━━━━━━━━━━━━\u001b[0m\u001b[37m\u001b[0m \u001b[1m0s\u001b[0m 10ms/step - accuracy: 0.7129 - loss: 0.9744 - val_accuracy: 0.6500 - val_loss: 1.0494\n",
      "Epoch 42/50\n",
      "\u001b[1m10/10\u001b[0m \u001b[32m━━━━━━━━━━━━━━━━━━━━\u001b[0m\u001b[37m\u001b[0m \u001b[1m0s\u001b[0m 12ms/step - accuracy: 0.7109 - loss: 0.8319 - val_accuracy: 0.6500 - val_loss: 1.0366\n",
      "Epoch 43/50\n",
      "\u001b[1m10/10\u001b[0m \u001b[32m━━━━━━━━━━━━━━━━━━━━\u001b[0m\u001b[37m\u001b[0m \u001b[1m0s\u001b[0m 10ms/step - accuracy: 0.7201 - loss: 0.8257 - val_accuracy: 0.6200 - val_loss: 1.0317\n",
      "Epoch 44/50\n",
      "\u001b[1m10/10\u001b[0m \u001b[32m━━━━━━━━━━━━━━━━━━━━\u001b[0m\u001b[37m\u001b[0m \u001b[1m0s\u001b[0m 10ms/step - accuracy: 0.7365 - loss: 0.7837 - val_accuracy: 0.6200 - val_loss: 1.0241\n",
      "Epoch 45/50\n",
      "\u001b[1m10/10\u001b[0m \u001b[32m━━━━━━━━━━━━━━━━━━━━\u001b[0m\u001b[37m\u001b[0m \u001b[1m0s\u001b[0m 11ms/step - accuracy: 0.7305 - loss: 0.7961 - val_accuracy: 0.6000 - val_loss: 1.0292\n",
      "Epoch 46/50\n",
      "\u001b[1m10/10\u001b[0m \u001b[32m━━━━━━━━━━━━━━━━━━━━\u001b[0m\u001b[37m\u001b[0m \u001b[1m0s\u001b[0m 10ms/step - accuracy: 0.7608 - loss: 0.7235 - val_accuracy: 0.6300 - val_loss: 1.0344\n",
      "Epoch 47/50\n",
      "\u001b[1m10/10\u001b[0m \u001b[32m━━━━━━━━━━━━━━━━━━━━\u001b[0m\u001b[37m\u001b[0m \u001b[1m0s\u001b[0m 11ms/step - accuracy: 0.7138 - loss: 0.7703 - val_accuracy: 0.6300 - val_loss: 1.0219\n",
      "Epoch 48/50\n",
      "\u001b[1m10/10\u001b[0m \u001b[32m━━━━━━━━━━━━━━━━━━━━\u001b[0m\u001b[37m\u001b[0m \u001b[1m0s\u001b[0m 11ms/step - accuracy: 0.7598 - loss: 0.7167 - val_accuracy: 0.6500 - val_loss: 1.0427\n",
      "Epoch 49/50\n",
      "\u001b[1m10/10\u001b[0m \u001b[32m━━━━━━━━━━━━━━━━━━━━\u001b[0m\u001b[37m\u001b[0m \u001b[1m0s\u001b[0m 8ms/step - accuracy: 0.7534 - loss: 0.6446 - val_accuracy: 0.6400 - val_loss: 1.0790\n",
      "Epoch 50/50\n",
      "\u001b[1m10/10\u001b[0m \u001b[32m━━━━━━━━━━━━━━━━━━━━\u001b[0m\u001b[37m\u001b[0m \u001b[1m0s\u001b[0m 9ms/step - accuracy: 0.7952 - loss: 0.6369 - val_accuracy: 0.6700 - val_loss: 1.0207\n"
     ]
    }
   ],
   "source": [
    "# Training the model\n",
    "history = model.fit(X_train, y_train, validation_data=(X_val, y_val), epochs=50, batch_size=32)"
   ]
  },
  {
   "cell_type": "code",
   "execution_count": 16,
   "id": "39d4c811-6909-4149-be7b-76e12dc468fe",
   "metadata": {},
   "outputs": [
    {
     "name": "stdout",
     "output_type": "stream",
     "text": [
      "Validation Loss: 1.0207194089889526, Validation Accuracy: 0.6700000166893005\n"
     ]
    }
   ],
   "source": [
    "# Evaluating the model on the validation set\n",
    "val_loss, val_acc = model.evaluate(X_val, y_val, verbose=0)\n",
    "print(f\"Validation Loss: {val_loss}, Validation Accuracy: {val_acc}\")"
   ]
  },
  {
   "cell_type": "code",
   "execution_count": 17,
   "id": "1ad59841-4e50-44d3-8a7d-6fa745f12209",
   "metadata": {},
   "outputs": [
    {
     "name": "stdout",
     "output_type": "stream",
     "text": [
      "\u001b[1m4/4\u001b[0m \u001b[32m━━━━━━━━━━━━━━━━━━━━\u001b[0m\u001b[37m\u001b[0m \u001b[1m0s\u001b[0m 4ms/step \n"
     ]
    }
   ],
   "source": [
    "# Predicting the test set\n",
    "y_pred = model.predict(X_test)\n",
    "y_pred_classes = np.argmax(y_pred, axis=1)\n"
   ]
  },
  {
   "cell_type": "code",
   "execution_count": 18,
   "id": "1a9ba5fd-5226-44b4-b66a-f46c4efe9d1b",
   "metadata": {},
   "outputs": [
    {
     "name": "stdout",
     "output_type": "stream",
     "text": [
      "Test Loss: 0.8856105208396912, Test Accuracy: 0.7200000286102295\n"
     ]
    }
   ],
   "source": [
    "# Evaluate the model on the test set\n",
    "test_loss, test_acc = model.evaluate(X_test, y_test, verbose=0)\n",
    "print(f\"Test Loss: {test_loss}, Test Accuracy: {test_acc}\")"
   ]
  },
  {
   "cell_type": "code",
   "execution_count": 19,
   "id": "3baea388-1cc9-45cc-abdb-1113ab3c14cf",
   "metadata": {},
   "outputs": [
    {
     "name": "stdout",
     "output_type": "stream",
     "text": [
      "Confusion Matrix:\n",
      "[[ 6  0  0  0  0  1  0  0  1  1]\n",
      " [ 0  9  1  0  0  4  0  0  0  0]\n",
      " [ 0  0  5  2  0  0  0  0  0  0]\n",
      " [ 0  0  2  2  0  0  0  3  0  0]\n",
      " [ 0  0  0  0  8  0  0  2  1  0]\n",
      " [ 0  0  0  0  0  7  0  0  0  0]\n",
      " [ 0  0  0  0  0  0 11  0  0  0]\n",
      " [ 0  0  1  1  0  0  0  6  0  0]\n",
      " [ 0  0  0  0  0  0  0  0 11  0]\n",
      " [ 1  0  2  1  0  1  1  0  2  7]]\n"
     ]
    }
   ],
   "source": [
    "# Generating confusion matrix\n",
    "conf_matrix = confusion_matrix(y_test, y_pred_classes)\n",
    "print(\"Confusion Matrix:\")\n",
    "print(conf_matrix)"
   ]
  },
  {
   "cell_type": "code",
   "execution_count": 20,
   "id": "f6e08ce9-8127-49d1-8b1b-140286916c0c",
   "metadata": {},
   "outputs": [
    {
     "data": {
      "image/png": "[encoded data removed]",
      "text/plain": [
       "<Figure size 1000x800 with 2 Axes>"
      ]
     },
     "metadata": {},
     "output_type": "display_data"
    }
   ],
   "source": [
    "# Plot confusion matrix\n",
    "plt.figure(figsize=(10, 8))\n",
    "sns.heatmap(conf_matrix, annot=True, fmt='d', cmap='Blues', xticklabels=label_encoder.classes_, yticklabels=label_encoder.classes_)\n",
    "plt.xlabel('Predicted')\n",
    "plt.ylabel('Actual')\n",
    "plt.title('Confusion Matrix')\n",
    "plt.show()"
   ]
  },
  {
   "cell_type": "code",
   "execution_count": 21,
   "id": "7dd4b3e1-aa54-4dd2-877a-90aa6cf1b08c",
   "metadata": {},
   "outputs": [
    {
     "name": "stdout",
     "output_type": "stream",
     "text": [
      "Classification Report:\n",
      "              precision    recall  f1-score   support\n",
      "\n",
      "       blues       0.86      0.67      0.75         9\n",
      "   classical       1.00      0.64      0.78        14\n",
      "     country       0.45      0.71      0.56         7\n",
      "       disco       0.33      0.29      0.31         7\n",
      "      hiphop       1.00      0.73      0.84        11\n",
      "        jazz       0.54      1.00      0.70         7\n",
      "       metal       0.92      1.00      0.96        11\n",
      "         pop       0.55      0.75      0.63         8\n",
      "      reggae       0.73      1.00      0.85        11\n",
      "        rock       0.88      0.47      0.61        15\n",
      "\n",
      "    accuracy                           0.72       100\n",
      "   macro avg       0.73      0.73      0.70       100\n",
      "weighted avg       0.78      0.72      0.72       100\n",
      "\n"
     ]
    }
   ],
   "source": [
    "# classification report\n",
    "class_report = classification_report(y_test, y_pred_classes, target_names=label_encoder.classes_)\n",
    "print(\"Classification Report:\")\n",
    "print(class_report)"
   ]
  },
  {
   "cell_type": "code",
   "execution_count": 23,
   "id": "a89944f5-5449-46a9-9460-4a1ac4a730a2",
   "metadata": {},
   "outputs": [
    {
     "name": "stdout",
     "output_type": "stream",
     "text": [
      "\u001b[1m1/1\u001b[0m \u001b[32m━━━━━━━━━━━━━━━━━━━━\u001b[0m\u001b[37m\u001b[0m \u001b[1m0s\u001b[0m 57ms/step\n",
      "The predicted genre for the provided audio file is: reggae\n"
     ]
    }
   ],
   "source": [
    "# Function to predict the genre of an input audio file\n",
    "def predict_genre(audio_path, model, scaler, label_encoder):\n",
    "    try:\n",
    "        y, sr = librosa.load(audio_path, sr=None)\n",
    "        features = extract_features(y, sr)\n",
    "        if features is not None:\n",
    "            features_scaled = scaler.transform([features])\n",
    "            prediction = model.predict(features_scaled)\n",
    "            predicted_genre = label_encoder.inverse_transform([np.argmax(prediction)])\n",
    "            return predicted_genre[0]\n",
    "        else:\n",
    "            return \"Error: Could not extract features from the audio file\"\n",
    "    except Exception as e:\n",
    "        return f\"Error: {e}\"\n",
    "\n",
    "\n",
    "audio_path = 'C:\\\\Users\\\\naga2\\\\Downloads\\\\DM_final\\\\test\\\\test4.au' #this is a reggae file\n",
    "predicted_genre = predict_genre(audio_path, model, scaler, label_encoder)\n",
    "print(f\"The predicted genre for the provided audio file is: {predicted_genre}\")"
   ]
  },
  {
   "cell_type": "code",
   "execution_count": null,
   "id": "c6723cea-e00d-4600-922c-ab8acbb81a27",
   "metadata": {},
   "outputs": [],
   "source": []
  }
 ],
 "metadata": {
  "kernelspec": {
   "display_name": "Python 3 (ipykernel)",
   "language": "python",
   "name": "python3"
  },
  "language_info": {
   "codemirror_mode": {
    "name": "ipython",
    "version": 3
   },
   "file_extension": ".py",
   "mimetype": "text/x-python",
   "name": "python",
   "nbconvert_exporter": "python",
   "pygments_lexer": "ipython3",
   "version": "3.11.5"
  }
 },
 "nbformat": 4,
 "nbformat_minor": 5
}
